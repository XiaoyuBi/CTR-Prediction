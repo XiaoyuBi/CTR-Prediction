{
 "cells": [
  {
   "cell_type": "markdown",
   "metadata": {},
   "source": [
    "# Load Data"
   ]
  },
  {
   "cell_type": "code",
   "execution_count": 1,
   "metadata": {},
   "outputs": [],
   "source": [
    "import pandas as pd\n",
    "import numpy as np\n",
    "import matplotlib.pyplot as plt\n",
    "%matplotlib inline\n",
    "\n",
    "import warnings\n",
    "warnings.filterwarnings(\"ignore\")"
   ]
  },
  {
   "cell_type": "code",
   "execution_count": 2,
   "metadata": {},
   "outputs": [],
   "source": [
    "poi_detail = pd.read_csv('ctr_data/table_poi_detail.csv')\n",
    "request_detail = pd.read_csv('ctr_data/table_request_detail.csv')\n",
    "request_detail.drop_duplicates(subset = 'request_id', keep = 'first', inplace = True)\n",
    "user_detail = pd.read_csv('ctr_data/table_uuid_detail.csv')\n",
    "user_detail.drop_duplicates(subset = 'uuid', keep = 'first', inplace = True)\n",
    "deal_detail = pd.read_csv('ctr_data/table_deal_detail.csv')\n",
    "train = pd.read_csv('ctr_data/table_impr_click_action_train.csv')\n",
    "test = pd.read_csv('ctr_data/table_impr_click_action_test.csv')"
   ]
  },
  {
   "cell_type": "code",
   "execution_count": 3,
   "metadata": {},
   "outputs": [],
   "source": [
    "train['train_test'] = 1\n",
    "test['train_test'] = 0\n",
    "train_test = pd.concat([train, test], axis = 0)\n",
    "#train_test.drop(['ID', 'pos', 'time'], axis = 1, inplace = True)"
   ]
  },
  {
   "cell_type": "markdown",
   "metadata": {},
   "source": [
    "# Merge "
   ]
  },
  {
   "cell_type": "code",
   "execution_count": 4,
   "metadata": {},
   "outputs": [],
   "source": [
    "# Cannot merge user_detail\n",
    "request_user = request_detail.merge(user_detail, on = 'uuid', how = 'left')\n",
    "train_test = train_test.merge(request_user, on = 'request_id', how = 'left').\\\n",
    "              merge(poi_detail, on = 'poi_id', suffixes=['_req', '_poi'], how = 'left')\n",
    "train_test['device_type'].fillna('NA', inplace = True)\n",
    "train_test['avg_price'].fillna(train_test['avg_price'].mean(), inplace = True)\n",
    "train_test['age'].fillna(train_test['age'].mean(), inplace = True)\n",
    "train_test['request_time'].fillna('00', inplace = True)\n",
    "train_test.fillna(-1.0, inplace = True)"
   ]
  },
  {
   "cell_type": "code",
   "execution_count": 5,
   "metadata": {},
   "outputs": [
    {
     "data": {
      "text/html": [
       "<div>\n",
       "<style scoped>\n",
       "    .dataframe tbody tr th:only-of-type {\n",
       "        vertical-align: middle;\n",
       "    }\n",
       "\n",
       "    .dataframe tbody tr th {\n",
       "        vertical-align: top;\n",
       "    }\n",
       "\n",
       "    .dataframe thead th {\n",
       "        text-align: right;\n",
       "    }\n",
       "</style>\n",
       "<table border=\"1\" class=\"dataframe\">\n",
       "  <thead>\n",
       "    <tr style=\"text-align: right;\">\n",
       "      <th></th>\n",
       "      <th>ID</th>\n",
       "      <th>action</th>\n",
       "      <th>poi_id</th>\n",
       "      <th>pos</th>\n",
       "      <th>request_id</th>\n",
       "      <th>time</th>\n",
       "      <th>train_test</th>\n",
       "      <th>uuid</th>\n",
       "      <th>cate_id</th>\n",
       "      <th>request_time</th>\n",
       "      <th>...</th>\n",
       "      <th>age</th>\n",
       "      <th>job</th>\n",
       "      <th>cate_level1</th>\n",
       "      <th>cate_level2</th>\n",
       "      <th>cate_level3</th>\n",
       "      <th>area_id</th>\n",
       "      <th>avg_price</th>\n",
       "      <th>poi_star</th>\n",
       "      <th>longitude_poi</th>\n",
       "      <th>latitude_poi</th>\n",
       "    </tr>\n",
       "  </thead>\n",
       "  <tbody>\n",
       "    <tr>\n",
       "      <th>0</th>\n",
       "      <td>-1.0</td>\n",
       "      <td>0.0</td>\n",
       "      <td>1702902487627383470</td>\n",
       "      <td>13.0</td>\n",
       "      <td>4311086084099128885</td>\n",
       "      <td>2019-05-02</td>\n",
       "      <td>1</td>\n",
       "      <td>9.639066e+18</td>\n",
       "      <td>1.0</td>\n",
       "      <td>16:20:24</td>\n",
       "      <td>...</td>\n",
       "      <td>28.021115</td>\n",
       "      <td>1.0</td>\n",
       "      <td>226</td>\n",
       "      <td>201</td>\n",
       "      <td>2036</td>\n",
       "      <td>15743</td>\n",
       "      <td>66.0</td>\n",
       "      <td>43.0</td>\n",
       "      <td>105.716693</td>\n",
       "      <td>29.167927</td>\n",
       "    </tr>\n",
       "    <tr>\n",
       "      <th>1</th>\n",
       "      <td>-1.0</td>\n",
       "      <td>0.0</td>\n",
       "      <td>14800569415264211896</td>\n",
       "      <td>1.0</td>\n",
       "      <td>4749834003306548820</td>\n",
       "      <td>2019-05-02</td>\n",
       "      <td>1</td>\n",
       "      <td>1.328961e+18</td>\n",
       "      <td>1.0</td>\n",
       "      <td>19:19:03</td>\n",
       "      <td>...</td>\n",
       "      <td>28.021115</td>\n",
       "      <td>3.0</td>\n",
       "      <td>226</td>\n",
       "      <td>201</td>\n",
       "      <td>244</td>\n",
       "      <td>31806</td>\n",
       "      <td>49.0</td>\n",
       "      <td>37.0</td>\n",
       "      <td>105.440202</td>\n",
       "      <td>38.060255</td>\n",
       "    </tr>\n",
       "    <tr>\n",
       "      <th>2</th>\n",
       "      <td>-1.0</td>\n",
       "      <td>0.0</td>\n",
       "      <td>6279863632342018475</td>\n",
       "      <td>83.0</td>\n",
       "      <td>13389247690348720622</td>\n",
       "      <td>2019-05-02</td>\n",
       "      <td>1</td>\n",
       "      <td>1.069036e+19</td>\n",
       "      <td>1.0</td>\n",
       "      <td>17:39:57</td>\n",
       "      <td>...</td>\n",
       "      <td>20.000000</td>\n",
       "      <td>3.0</td>\n",
       "      <td>226</td>\n",
       "      <td>249</td>\n",
       "      <td>12</td>\n",
       "      <td>6941</td>\n",
       "      <td>49.0</td>\n",
       "      <td>48.0</td>\n",
       "      <td>112.568717</td>\n",
       "      <td>22.080556</td>\n",
       "    </tr>\n",
       "    <tr>\n",
       "      <th>3</th>\n",
       "      <td>-1.0</td>\n",
       "      <td>0.0</td>\n",
       "      <td>11127900293242244072</td>\n",
       "      <td>43.0</td>\n",
       "      <td>3988416664035581676</td>\n",
       "      <td>2019-05-02</td>\n",
       "      <td>1</td>\n",
       "      <td>3.636211e+18</td>\n",
       "      <td>1.0</td>\n",
       "      <td>22:31:17</td>\n",
       "      <td>...</td>\n",
       "      <td>18.000000</td>\n",
       "      <td>2.0</td>\n",
       "      <td>226</td>\n",
       "      <td>308</td>\n",
       "      <td>321</td>\n",
       "      <td>35343</td>\n",
       "      <td>100.0</td>\n",
       "      <td>39.0</td>\n",
       "      <td>119.348778</td>\n",
       "      <td>29.815176</td>\n",
       "    </tr>\n",
       "    <tr>\n",
       "      <th>4</th>\n",
       "      <td>-1.0</td>\n",
       "      <td>0.0</td>\n",
       "      <td>15471065569104080361</td>\n",
       "      <td>13.0</td>\n",
       "      <td>17230175878920950111</td>\n",
       "      <td>2019-05-02</td>\n",
       "      <td>1</td>\n",
       "      <td>4.344248e+18</td>\n",
       "      <td>1.0</td>\n",
       "      <td>18:30:24</td>\n",
       "      <td>...</td>\n",
       "      <td>31.000000</td>\n",
       "      <td>1.0</td>\n",
       "      <td>226</td>\n",
       "      <td>235</td>\n",
       "      <td>235</td>\n",
       "      <td>34029</td>\n",
       "      <td>107.0</td>\n",
       "      <td>50.0</td>\n",
       "      <td>86.770657</td>\n",
       "      <td>43.404640</td>\n",
       "    </tr>\n",
       "  </tbody>\n",
       "</table>\n",
       "<p>5 rows × 24 columns</p>\n",
       "</div>"
      ],
      "text/plain": [
       "    ID  action                poi_id   pos            request_id        time  \\\n",
       "0 -1.0     0.0   1702902487627383470  13.0   4311086084099128885  2019-05-02   \n",
       "1 -1.0     0.0  14800569415264211896   1.0   4749834003306548820  2019-05-02   \n",
       "2 -1.0     0.0   6279863632342018475  83.0  13389247690348720622  2019-05-02   \n",
       "3 -1.0     0.0  11127900293242244072  43.0   3988416664035581676  2019-05-02   \n",
       "4 -1.0     0.0  15471065569104080361  13.0  17230175878920950111  2019-05-02   \n",
       "\n",
       "   train_test          uuid  cate_id request_time  ...        age  job  \\\n",
       "0           1  9.639066e+18      1.0     16:20:24  ...  28.021115  1.0   \n",
       "1           1  1.328961e+18      1.0     19:19:03  ...  28.021115  3.0   \n",
       "2           1  1.069036e+19      1.0     17:39:57  ...  20.000000  3.0   \n",
       "3           1  3.636211e+18      1.0     22:31:17  ...  18.000000  2.0   \n",
       "4           1  4.344248e+18      1.0     18:30:24  ...  31.000000  1.0   \n",
       "\n",
       "  cate_level1  cate_level2  cate_level3  area_id  avg_price  poi_star  \\\n",
       "0         226          201         2036    15743       66.0      43.0   \n",
       "1         226          201          244    31806       49.0      37.0   \n",
       "2         226          249           12     6941       49.0      48.0   \n",
       "3         226          308          321    35343      100.0      39.0   \n",
       "4         226          235          235    34029      107.0      50.0   \n",
       "\n",
       "   longitude_poi  latitude_poi  \n",
       "0     105.716693     29.167927  \n",
       "1     105.440202     38.060255  \n",
       "2     112.568717     22.080556  \n",
       "3     119.348778     29.815176  \n",
       "4      86.770657     43.404640  \n",
       "\n",
       "[5 rows x 24 columns]"
      ]
     },
     "execution_count": 5,
     "metadata": {},
     "output_type": "execute_result"
    }
   ],
   "source": [
    "train_test.head()"
   ]
  },
  {
   "cell_type": "markdown",
   "metadata": {},
   "source": [
    "# Feature Engineering"
   ]
  },
  {
   "cell_type": "code",
   "execution_count": 11,
   "metadata": {},
   "outputs": [],
   "source": [
    "# Preprocess\n",
    "from sklearn import preprocessing\n",
    "encoder = preprocessing.LabelEncoder()\n",
    "standard = preprocessing.StandardScaler()\n",
    "train_test.loc[:, 'device_type'] = pd.Series(encoder.fit_transform(train_test.loc[:, 'device_type']))\n",
    "train_test['age'] = standard.fit_transform((train_test['age']).values.reshape(-1, 1))\n",
    "train_test['avg_price'] = standard.fit_transform((train_test['avg_price']).values.reshape(-1, 1))\n",
    "train_test['poi_star'] = standard.fit_transform((train_test['poi_star']).values.reshape(-1, 1))\n",
    "#train_temp.loc[:, 'area_id'] = pd.Series(encoder.fit_transform(train_temp.loc[:, 'area_id']))\n",
    "#train_temp.loc[:, 'cate_id'] = pd.Series(encoder.fit_transform(train_temp.loc[:, 'cate_id']))\n",
    "#train_temp.loc[:, 'cate_level1'] = pd.Series(encoder.fit_transform(train_temp.loc[:, 'cate_level1']))\n",
    "#train_temp.loc[:, 'cate_level2'] = pd.Series(encoder.fit_transform(train_temp.loc[:, 'cate_level2']))\n",
    "#train_temp.loc[:, 'cate_level3'] = pd.Series(encoder.fit_transform(train_temp.loc[:, 'cate_level3']))"
   ]
  },
  {
   "cell_type": "code",
   "execution_count": 13,
   "metadata": {},
   "outputs": [],
   "source": [
    "train_test['hour'] = train_test['request_time'].apply(lambda x: int(x[0:2]))\n",
    "train_test['week'] = train_test['time'].apply(lambda x: int(x[-2:])%7)\n",
    "#train_test.head()"
   ]
  },
  {
   "cell_type": "code",
   "execution_count": 15,
   "metadata": {},
   "outputs": [
    {
     "data": {
      "text/plain": [
       "\"from sklearn.cluster import KMeans\\n \\nkmodel = KMeans(n_clusters = 20, n_jobs = 4) \\nkmodel.fit(np.array(train_test['avg_price']).reshape((len(train_test['avg_price']), 1)))\\nkmodel_pred = kmodel.predict(np.array(train_test['avg_price']).reshape((len(train_test['avg_price']), 1)))\\ntrain_test.loc[:, 'avg_price_type'] = kmodel_pred\""
      ]
     },
     "execution_count": 15,
     "metadata": {},
     "output_type": "execute_result"
    }
   ],
   "source": [
    "# Discretization By K-means\n",
    "'''from sklearn.cluster import KMeans\n",
    " \n",
    "kmodel = KMeans(n_clusters = 20, n_jobs = 4) \n",
    "kmodel.fit(np.array(train_test['avg_price']).reshape((len(train_test['avg_price']), 1)))\n",
    "kmodel_pred = kmodel.predict(np.array(train_test['avg_price']).reshape((len(train_test['avg_price']), 1)))\n",
    "train_test.loc[:, 'avg_price_type'] = kmodel_pred'''"
   ]
  },
  {
   "cell_type": "code",
   "execution_count": 16,
   "metadata": {},
   "outputs": [
    {
     "data": {
      "text/plain": [
       "Index(['ID', 'action', 'poi_id', 'pos', 'request_id', 'time', 'train_test',\n",
       "       'uuid', 'cate_id', 'request_time', 'latitude_req', 'longitude_req',\n",
       "       'device_type', 'gender', 'age', 'job', 'cate_level1', 'cate_level2',\n",
       "       'cate_level3', 'area_id', 'avg_price', 'poi_star', 'longitude_poi',\n",
       "       'latitude_poi', 'hour', 'week'],\n",
       "      dtype='object')"
      ]
     },
     "execution_count": 16,
     "metadata": {},
     "output_type": "execute_result"
    }
   ],
   "source": [
    "train_test.columns"
   ]
  },
  {
   "cell_type": "code",
   "execution_count": 37,
   "metadata": {},
   "outputs": [],
   "source": [
    "needed_columns = ['poi_id', 'uuid', 'cate_id', 'hour', 'longitude_req', 'latitude_req',\n",
    "               'device_type', 'gender', 'age', 'job', 'longitude_poi', 'latitude_poi',\n",
    "                'cate_level2', 'cate_level3', 'area_id', 'week',\n",
    "               'avg_price', 'poi_star']"
   ]
  },
  {
   "cell_type": "markdown",
   "metadata": {},
   "source": [
    "# Train"
   ]
  },
  {
   "cell_type": "code",
   "execution_count": 38,
   "metadata": {},
   "outputs": [],
   "source": [
    "# Balance need further improvement\n",
    "train_test1 = train_test[train_test['action'] >= 1]\n",
    "train_test2 = pd.concat([train_test[train_test['action'] == 0][0:200000],train_test1],axis = 0)"
   ]
  },
  {
   "cell_type": "code",
   "execution_count": 39,
   "metadata": {},
   "outputs": [],
   "source": [
    "from sklearn import utils\n",
    "\n",
    "def undersampling(train, undersampling_rate):\n",
    "\n",
    "    # Get the indices per target value\n",
    "    idx_0 = train[train.action == 0].index\n",
    "    idx_1 = train[train.action >= 1].index\n",
    "    # Get original number of records per target value\n",
    "    nb_0 = len(train.loc[idx_0])\n",
    "    nb_1 = len(train.loc[idx_1])\n",
    "    # Calculate the undersampling rate and resulting number of records with target=0\n",
    "    undersampled_nb_0 = int(undersampling_rate*nb_0)\n",
    "    print('Rate to undersample records with action = 0: {}'.format(undersampling_rate))\n",
    "    print('Number of records with action = 0 after undersampling: {}'.format(undersampled_nb_0))\n",
    "    # Randomly select records with target=0 to get at the desired a priori\n",
    "    undersampled_idx = utils.shuffle(idx_0, n_samples = undersampled_nb_0)\n",
    "    # Construct list with remaining indices\n",
    "    idx_list = list(undersampled_idx) + list(idx_1)\n",
    "    # Return undersample data frame\n",
    "    train = train.loc[idx_list].reset_index(drop = True)\n",
    "\n",
    "    return train"
   ]
  },
  {
   "cell_type": "code",
   "execution_count": 40,
   "metadata": {},
   "outputs": [
    {
     "name": "stdout",
     "output_type": "stream",
     "text": [
      "Rate to undersample records with action = 0: 0.06\n",
      "Number of records with action = 0 after undersampling: 246395\n"
     ]
    }
   ],
   "source": [
    "train_test_undersampling = undersampling(train_test, 0.06)"
   ]
  },
  {
   "cell_type": "code",
   "execution_count": 41,
   "metadata": {},
   "outputs": [],
   "source": [
    "x = train_test_undersampling[needed_columns]\n",
    "y = train_test_undersampling['action'] >= 1\n",
    "y = y.astype(int)"
   ]
  },
  {
   "cell_type": "code",
   "execution_count": 42,
   "metadata": {},
   "outputs": [],
   "source": [
    "from sklearn.model_selection import train_test_split\n",
    "\n",
    "X_train, X_val, y_train, y_val = train_test_split(x, y, random_state = 0)"
   ]
  },
  {
   "cell_type": "markdown",
   "metadata": {},
   "source": [
    "## LightGBM"
   ]
  },
  {
   "cell_type": "code",
   "execution_count": 43,
   "metadata": {},
   "outputs": [],
   "source": [
    "import lightgbm as lgb\n",
    "\n",
    "dtrain = lgb.Dataset(X_train, y_train)\n",
    "dval = lgb.Dataset(X_val, y_val)"
   ]
  },
  {
   "cell_type": "code",
   "execution_count": 44,
   "metadata": {},
   "outputs": [],
   "source": [
    "params = {\n",
    "    'metric':'auc',\n",
    "    'learning_rate':0.001,\n",
    "    'num_leaves':127,\n",
    "    'objective':'binary',\n",
    "    'n_jobs':6,\n",
    "    'early_stopping_round': 500,\n",
    "    'feature_fraction':0.8,\n",
    "    'feature_fraction_seed':2019\n",
    "}"
   ]
  },
  {
   "cell_type": "code",
   "execution_count": 45,
   "metadata": {},
   "outputs": [
    {
     "name": "stdout",
     "output_type": "stream",
     "text": [
      "Training until validation scores don't improve for 500 rounds.\n",
      "[500]\tvalid_0's auc: 0.613877\n",
      "[1000]\tvalid_0's auc: 0.61542\n",
      "[1500]\tvalid_0's auc: 0.616865\n",
      "[2000]\tvalid_0's auc: 0.61808\n",
      "[2500]\tvalid_0's auc: 0.61901\n",
      "[3000]\tvalid_0's auc: 0.619977\n",
      "[3500]\tvalid_0's auc: 0.620945\n",
      "[4000]\tvalid_0's auc: 0.621679\n",
      "[4500]\tvalid_0's auc: 0.622074\n",
      "[5000]\tvalid_0's auc: 0.622341\n",
      "Did not meet early stopping. Best iteration is:\n",
      "[4999]\tvalid_0's auc: 0.622341\n"
     ]
    }
   ],
   "source": [
    "clf = lgb.train(params, dtrain, num_boost_round = 5000, valid_sets = dval, verbose_eval = 500)"
   ]
  },
  {
   "cell_type": "markdown",
   "metadata": {},
   "source": [
    "### LightGBM Parameter tuning"
   ]
  },
  {
   "cell_type": "code",
   "execution_count": 46,
   "metadata": {},
   "outputs": [
    {
     "data": {
      "text/plain": [
       "<matplotlib.axes._subplots.AxesSubplot at 0x1286d51d0>"
      ]
     },
     "execution_count": 46,
     "metadata": {},
     "output_type": "execute_result"
    },
    {
     "data": {
      "image/png": "[encoded data removed]",
      "text/plain": [
       "<Figure size 432x288 with 1 Axes>"
      ]
     },
     "metadata": {
      "needs_background": "light"
     },
     "output_type": "display_data"
    }
   ],
   "source": [
    "lgb.plot_importance(clf, max_num_features = 20)"
   ]
  },
  {
   "cell_type": "markdown",
   "metadata": {},
   "source": [
    "# Test w = 0.06"
   ]
  },
  {
   "cell_type": "code",
   "execution_count": 26,
   "metadata": {},
   "outputs": [],
   "source": [
    "a = train_test[train_test['action'] == -1]"
   ]
  },
  {
   "cell_type": "code",
   "execution_count": 27,
   "metadata": {},
   "outputs": [],
   "source": [
    "preds_xgb_test = clf.predict(a[needed_columns])\n",
    "preds_xgb_test_re = preds_xgb_test/(preds_xgb_test+(1-preds_xgb_test)/0.06)"
   ]
  },
  {
   "cell_type": "code",
   "execution_count": 28,
   "metadata": {},
   "outputs": [],
   "source": [
    "testoutput = pd.DataFrame()\n",
    "testoutput['action'] = preds_xgb_test_re\n",
    "testoutput.index.name = 'ID'"
   ]
  },
  {
   "cell_type": "code",
   "execution_count": 29,
   "metadata": {},
   "outputs": [],
   "source": [
    "testoutput.to_csv('output/testoutputV2.09.csv')"
   ]
  },
  {
   "cell_type": "code",
   "execution_count": 30,
   "metadata": {},
   "outputs": [
    {
     "data": {
      "text/plain": [
       " 0.0     4106584\n",
       "-1.0      192000\n",
       " 1.0       92189\n",
       " 2.0        6216\n",
       " 3.0         850\n",
       " 4.0         190\n",
       " 5.0          61\n",
       " 6.0          19\n",
       " 7.0           7\n",
       " 8.0           2\n",
       " 11.0          1\n",
       " 9.0           1\n",
       "Name: action, dtype: int64"
      ]
     },
     "execution_count": 30,
     "metadata": {},
     "output_type": "execute_result"
    }
   ],
   "source": [
    "train_test['action'].value_counts()"
   ]
  },
  {
   "cell_type": "code",
   "execution_count": 31,
   "metadata": {},
   "outputs": [
    {
     "data": {
      "text/plain": [
       "action    0.023819\n",
       "dtype: float64"
      ]
     },
     "execution_count": 31,
     "metadata": {},
     "output_type": "execute_result"
    }
   ],
   "source": [
    "testoutput.mean()"
   ]
  },
  {
   "cell_type": "code",
   "execution_count": null,
   "metadata": {},
   "outputs": [],
   "source": []
  }
 ],
 "metadata": {
  "kernelspec": {
   "display_name": "Python 3",
   "language": "python",
   "name": "python3"
  },
  "language_info": {
   "codemirror_mode": {
    "name": "ipython",
    "version": 3
   },
   "file_extension": ".py",
   "mimetype": "text/x-python",
   "name": "python",
   "nbconvert_exporter": "python",
   "pygments_lexer": "ipython3",
   "version": "3.7.3"
  }
 },
 "nbformat": 4,
 "nbformat_minor": 2
}
